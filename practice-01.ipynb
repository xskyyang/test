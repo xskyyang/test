{
 "cells": [
  {
   "cell_type": "code",
   "execution_count": 106,
   "metadata": {},
   "outputs": [
    {
     "name": "stdout",
     "output_type": "stream",
     "text": [
      "please input the total number of sentences: 123\n"
     ]
    },
    {
     "data": {
      "text/plain": [
       "'学生在车站学习医生在车站教书教师在科技园学习商人在商场看病教师在学校看病医生在商场教书学生在科技园学习医生在医院写代码医生在医院看病商人在商场教书学生在科技园学习学生在商场写代码程序员在科技园工作医生在商场看病商人在学校看病商人在科技园教书教师在车站工作学生在商场学习程序员在车站教书程序员在学校写代码教师在科技园教书程序员在学校教书商人在学校学习商人在商场学习教师在科技园看病教师在学校工作教师在医院学习学生在医院教书程序员在学校工作教师在商场教书程序员在商场教书教师在医院写代码学生在车站写代码学生在车站教书学生在商场教书教师在车站学习学生在学校写代码学生在商场教书学生在科技园写代码医生在车站教书程序员在商场看病商人在科技园教书学生在科技园学习商人在医院工作医生在学校写代码程序员在车站工作商人在学校工作程序员在商场工作程序员在车站看病学生在学校写代码教师在车站教书医生在医院看病医生在车站看病学生在车站写代码学生在商场看病学生在商场教书医生在科技园工作教师在医院教书医生在科技园教书教师在学校学习教师在学校工作学生在车站工作学生在医院看病教师在科技园工作医生在商场看病学生在商场工作程序员在学校学习商人在科技园写代码教师在商场工作商人在商场学习商人在科技园看病医生在医院学习教师在学校工作程序员在医院学习商人在学校教书学生在车站教书商人在学校写代码学生在商场学习程序员在学校写代码学生在科技园工作教师在车站教书医生在科技园工作学生在医院写代码教师在商场工作学生在车站学习学生在科技园教书教师在医院学习学生在学校工作商人在商场工作教师在科技园看病商人在车站写代码教师在商场教书程序员在学校写代码学生在医院工作医生在学校写代码教师在车站教书程序员在车站写代码商人在医院教书程序员在医院学习医生在医院教书教师在学校写代码商人在科技园看病医生在学校看病医生在商场写代码学生在商场学习医生在车站写代码程序员在科技园看病教师在医院工作医生在商场工作医生在学校教书医生在医院工作学生在科技园写代码医生在医院工作程序员在医院教书医生在医院教书商人在车站看病商人在医院学习程序员在医院工作程序员在学校工作教师在学校教书程序员在医院教书商人在医院教书医生在车站工作'"
      ]
     },
     "execution_count": 106,
     "metadata": {},
     "output_type": "execute_result"
    }
   ],
   "source": [
    "import random\n",
    "\n",
    "user = \"\"\"\n",
    "user = 职业 在 地点 工作内容\n",
    "职业 = 学生 | 教师 | 医生 | 程序员 | 商人\n",
    "地点 = 学校 | 医院 | 车站 | 科技园 | 商场\n",
    "工作内容 = 学习 | 教书 | 看病 | 写代码 | 工作\n",
    "\"\"\"\n",
    "\n",
    "def get_generation_by_gram(grammar_str: str, target, stmt_split = '=', or_split = '|'):\n",
    "    rules = dict() #key is the @statement, value is @expression\n",
    "    for line in grammar_str.split('\\n'):\n",
    "        if not line: continue\n",
    "        #skip the empty line\n",
    "        #print(line)\n",
    "        stmt, expr = line.split(stmt_split)\n",
    "        \n",
    "        rules[stmt.strip()] = expr.split(or_split)\n",
    "    generated = generate(rules, target = target)\n",
    "    \n",
    "    return generated\n",
    "\n",
    "def generate(grammar_rule, target):\n",
    "    if target in grammar_rule:\n",
    "        candidates = grammar_rule[target]\n",
    "        candidate = random.choice(candidates)\n",
    "        return ''.join(generate(grammar_rule, target = c.strip()) for c in candidate.split())\n",
    "    else:\n",
    "        return target\n",
    "\n",
    "get_generation_by_gram(user, target = 'user', stmt_split = '=')\n",
    "\n",
    "n = int(input(\"please input the total number of sentences: \"))\n",
    "\n",
    "def generate_n(SenNum):\n",
    "    return ''.join(get_generation_by_gram(user, target = 'user', stmt_split = '=') for i in range(SenNum))\n",
    "\n",
    "generate_n(n)\n",
    "\n"
   ]
  },
  {
   "cell_type": "code",
   "execution_count": null,
   "metadata": {
    "collapsed": true
   },
   "outputs": [],
   "source": []
  }
 ],
 "metadata": {
  "kernelspec": {
   "display_name": "Python [default]",
   "language": "python",
   "name": "python3"
  },
  "language_info": {
   "codemirror_mode": {
    "name": "ipython",
    "version": 3
   },
   "file_extension": ".py",
   "mimetype": "text/x-python",
   "name": "python",
   "nbconvert_exporter": "python",
   "pygments_lexer": "ipython3",
   "version": "3.5.4"
  },
  "toc": {
   "base_numbering": 1,
   "nav_menu": {},
   "number_sections": true,
   "sideBar": true,
   "skip_h1_title": false,
   "title_cell": "Table of Contents",
   "title_sidebar": "Contents",
   "toc_cell": false,
   "toc_position": {},
   "toc_section_display": true,
   "toc_window_display": false
  }
 },
 "nbformat": 4,
 "nbformat_minor": 2
}
